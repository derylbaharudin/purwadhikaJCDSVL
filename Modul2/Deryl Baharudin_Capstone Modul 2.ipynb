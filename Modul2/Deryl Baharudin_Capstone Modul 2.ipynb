{
 "cells": [
  {
   "cell_type": "markdown",
   "metadata": {},
   "source": [
    "# ***Capstone Project Modul 2 - Data Analysis***"
   ]
  },
  {
   "cell_type": "markdown",
   "metadata": {},
   "source": [
    "**Deryl Baharudin Sopandi**\n",
    "\n",
    "Job Connector Data Science and Machine Learning\n",
    "\n",
    "After Hour Video Learning"
   ]
  },
  {
   "cell_type": "markdown",
   "metadata": {},
   "source": [
    "## **1. Data Understanding**"
   ]
  },
  {
   "cell_type": "markdown",
   "metadata": {},
   "source": [
    "## Context\n",
    "Sebuah perusahaan memiliki database HR yang berisi informasi lokasi cabang perusahaan, data karyawan, gaji, dan jabatan pekerjaan.\n",
    "\n",
    "## Database Information\n",
    "Sumber Database : https://drive.google.com/file/d/1XfhOHYKzW7Cz1RNHlknJI6Lz7LLSi5EI/view?usp=sharing"
   ]
  },
  {
   "cell_type": "code",
   "execution_count": 36,
   "metadata": {},
   "outputs": [
    {
     "data": {
      "text/html": [
       "<img src=\"HR ERD.gif\"/>"
      ],
      "text/plain": [
       "<IPython.core.display.Image object>"
      ]
     },
     "execution_count": 36,
     "metadata": {},
     "output_type": "execute_result"
    }
   ],
   "source": [
    "from IPython.display import Image\n",
    "Image(url='HR ERD.gif')"
   ]
  },
  {
   "cell_type": "markdown",
   "metadata": {},
   "source": [
    "Database HR terdiri dari 8 tabel, yaitu:\n",
    "1. region       : menyimpan informasi mengenai region perusahaan\n",
    "2. countries    : menyimpan informasi mengenai data negara di setiap region perusahaan\n",
    "3. departments  : menyimpan informasi log manager dalam setiap departemen\n",
    "4. job_history  : menyimpan informasi data karyawan yang pernah/sedang bekerja di setiap departemen\n",
    "5. employees    : menyimpan informasi identitas karyawan, hiring date, jabatan, gaji, manager, dan departemen\n",
    "6. locations    : menyimpan informasi lokasi/alamat kantor cabang\n",
    "7. jobs         : menyimpan informasi setiap posisi jabatan pekerjaan dan range gaji\n",
    "8. job_grades   : menyimpan informasi golongan jabatan dan range gaji"
   ]
  },
  {
   "cell_type": "markdown",
   "metadata": {},
   "source": [
    "## **2. Database**"
   ]
  },
  {
   "cell_type": "markdown",
   "metadata": {},
   "source": [
    "### Import Libraries\n",
    "Pada bagian ini, akan diimport libraries "
   ]
  },
  {
   "cell_type": "code",
   "execution_count": 37,
   "metadata": {},
   "outputs": [],
   "source": [
    "# Import Modules\n",
    "import pandas as pd\n",
    "import numpy as np\n",
    "import mysql.connector as sqlcon"
   ]
  },
  {
   "cell_type": "markdown",
   "metadata": {},
   "source": [
    "### Connecting to MySQL\n",
    "Pada bagian ini, akan dihubungkan dengan ``MySQL`` pada koneksi lokal menggunakan "
   ]
  },
  {
   "cell_type": "code",
   "execution_count": 38,
   "metadata": {},
   "outputs": [],
   "source": [
    "# Connect To Database\n",
    "\n",
    "mydb = sqlcon.connect(\n",
    "    host = 'localhost',\n",
    "    user = 'root',\n",
    "    passwd = 'derylbaharudin',\n",
    "    database = 'human_resource'\n",
    ")"
   ]
  },
  {
   "cell_type": "markdown",
   "metadata": {},
   "source": [
    "### Convert to DataFrame\n",
    "Selain melakukan koneksi ke database, hal lain yang perlu dilakukan pada bagian awal ini adalah membuat sebuah fungsi untuk menuliskan ``query`` yang kemudian akan disimpan dalam bentuk DataFrame. Tujuannya adalah agar data hasil ``query`` yang dibuat dapat disimpan dan digunakan untuk keperluan analisis data. Nantinya, di sini terdapat 2 query untuk mengambil data-data yang ada di database, bukan hanya berasal dari 1 tabel, tapi juga akan melibatkan hubungan antar tabel."
   ]
  },
  {
   "cell_type": "code",
   "execution_count": 39,
   "metadata": {},
   "outputs": [],
   "source": [
    "# Query Function\n",
    "\n",
    "curs = mydb.cursor()\n",
    "\n",
    "def sql_table (query) :\n",
    "    curs.execute (query)\n",
    "    result = curs.fetchall()\n",
    "    tabel1 = pd.DataFrame(result, columns=curs.column_names)\n",
    "    return tabel1"
   ]
  },
  {
   "cell_type": "markdown",
   "metadata": {},
   "source": [
    "### Questions Formulation\n",
    "Membuat formulasi masalah untuk dianalisis dan dicari insight yang ditemukan dari database yang ada. Pertanyaan untuk pedoman analisis antara lain:\n",
    "1. Profiling Karyawan. **(Python)**\n",
    "- Karyawan terbanyak untuk tiap region, negara dan cabang?\n",
    "- Bagaimana perbandingan rata-rata gaji karyawan di tiap posisi antara actual dan kisaran range perusahaan?\n",
    "\n",
    "2. Manager profiling. **(Tableau)**\n",
    "- Berapa jumlah personil yang disupervisi oleh setiap manager?\n",
    "- Berapa jumlah manager di tiap kantor cabang?\n",
    "- Rata-rata gaji manager di tiap kantor cabang?"
   ]
  },
  {
   "cell_type": "markdown",
   "metadata": {},
   "source": [
    "### Preparing DataFrame with Common Table Expression (CTE)\n",
    "\n",
    "#### 1. Data Detail Karyawan\n",
    "Data pertama ini merupakan data utama yang nantinya akan dianalisa lebih lanjut. Data ini merupakan gabungan dari 4 tabel, yaitu tabel ```regions```, ```countries```, ```locations```, ```employees```, ```jobs``` dan ```departments``` untuk tabel 1 dan ```job_history``` untuk tabel 2. Masing-masing dari setiap tabel tersebut diambil beberapa kolomnya dan tidak diambil secara keseluruhan. Informasi-informasi yang dianggap penting saja lah yang diambil. Informasi yang diambil antara lain adalah :\n",
    "- region_name dari tabel regions\n",
    "- country name dari tabel countries\n",
    "- city dari tabel locations\n",
    "- department_name dari tabel departments\n",
    "- employee_id dari tabel employees\n",
    "- hire_date dari tabel employees\n",
    "- job_title dari tabel jobs\n",
    "- min_salary dari tabel jobs\n",
    "- max_salary dari tabel jobs\n",
    "- salary dari tabel employees\n",
    "- manager_id dari tabel employees\n",
    "\n",
    "#### 2. Data Detail Job History\n",
    "- start_date dari tabel job_history\n",
    "- end_date dari tabel job_history\n"
   ]
  },
  {
   "cell_type": "code",
   "execution_count": 40,
   "metadata": {},
   "outputs": [
    {
     "data": {
      "text/html": [
       "<div>\n",
       "<style scoped>\n",
       "    .dataframe tbody tr th:only-of-type {\n",
       "        vertical-align: middle;\n",
       "    }\n",
       "\n",
       "    .dataframe tbody tr th {\n",
       "        vertical-align: top;\n",
       "    }\n",
       "\n",
       "    .dataframe thead th {\n",
       "        text-align: right;\n",
       "    }\n",
       "</style>\n",
       "<table border=\"1\" class=\"dataframe\">\n",
       "  <thead>\n",
       "    <tr style=\"text-align: right;\">\n",
       "      <th></th>\n",
       "      <th>country_name</th>\n",
       "      <th>region_name</th>\n",
       "      <th>location_id</th>\n",
       "      <th>city</th>\n",
       "      <th>employee_id</th>\n",
       "      <th>hire_date</th>\n",
       "      <th>salary</th>\n",
       "      <th>manager_id</th>\n",
       "      <th>department_name</th>\n",
       "      <th>location_id</th>\n",
       "      <th>job_title</th>\n",
       "      <th>min_salary</th>\n",
       "      <th>max_salary</th>\n",
       "    </tr>\n",
       "  </thead>\n",
       "  <tbody>\n",
       "    <tr>\n",
       "      <th>0</th>\n",
       "      <td>Italy</td>\n",
       "      <td>Europe\\r</td>\n",
       "      <td>1000</td>\n",
       "      <td>Roma</td>\n",
       "      <td>None</td>\n",
       "      <td>None</td>\n",
       "      <td>None</td>\n",
       "      <td>None</td>\n",
       "      <td>None</td>\n",
       "      <td>None</td>\n",
       "      <td>None</td>\n",
       "      <td>None</td>\n",
       "      <td>None</td>\n",
       "    </tr>\n",
       "    <tr>\n",
       "      <th>1</th>\n",
       "      <td>Italy</td>\n",
       "      <td>Europe\\r</td>\n",
       "      <td>1100</td>\n",
       "      <td>Venice</td>\n",
       "      <td>None</td>\n",
       "      <td>None</td>\n",
       "      <td>None</td>\n",
       "      <td>None</td>\n",
       "      <td>None</td>\n",
       "      <td>None</td>\n",
       "      <td>None</td>\n",
       "      <td>None</td>\n",
       "      <td>None</td>\n",
       "    </tr>\n",
       "    <tr>\n",
       "      <th>2</th>\n",
       "      <td>Japan</td>\n",
       "      <td>Asia\\r</td>\n",
       "      <td>1200</td>\n",
       "      <td>Tokyo</td>\n",
       "      <td>None</td>\n",
       "      <td>None</td>\n",
       "      <td>None</td>\n",
       "      <td>None</td>\n",
       "      <td>None</td>\n",
       "      <td>None</td>\n",
       "      <td>None</td>\n",
       "      <td>None</td>\n",
       "      <td>None</td>\n",
       "    </tr>\n",
       "    <tr>\n",
       "      <th>3</th>\n",
       "      <td>Japan</td>\n",
       "      <td>Asia\\r</td>\n",
       "      <td>1300</td>\n",
       "      <td>Hiroshima</td>\n",
       "      <td>None</td>\n",
       "      <td>None</td>\n",
       "      <td>None</td>\n",
       "      <td>None</td>\n",
       "      <td>None</td>\n",
       "      <td>None</td>\n",
       "      <td>None</td>\n",
       "      <td>None</td>\n",
       "      <td>None</td>\n",
       "    </tr>\n",
       "    <tr>\n",
       "      <th>4</th>\n",
       "      <td>United States of America</td>\n",
       "      <td>Americas\\r</td>\n",
       "      <td>1400</td>\n",
       "      <td>Southlake</td>\n",
       "      <td>103</td>\n",
       "      <td>1987-06-20</td>\n",
       "      <td>9000.00</td>\n",
       "      <td>102</td>\n",
       "      <td>IT</td>\n",
       "      <td>1400</td>\n",
       "      <td>Programmer</td>\n",
       "      <td>4000</td>\n",
       "      <td>10000</td>\n",
       "    </tr>\n",
       "  </tbody>\n",
       "</table>\n",
       "</div>"
      ],
      "text/plain": [
       "               country_name region_name location_id       city employee_id  \\\n",
       "0                     Italy    Europe\\r        1000       Roma        None   \n",
       "1                     Italy    Europe\\r        1100     Venice        None   \n",
       "2                     Japan      Asia\\r        1200      Tokyo        None   \n",
       "3                     Japan      Asia\\r        1300  Hiroshima        None   \n",
       "4  United States of America  Americas\\r        1400  Southlake         103   \n",
       "\n",
       "    hire_date   salary manager_id department_name location_id   job_title  \\\n",
       "0        None     None       None            None        None        None   \n",
       "1        None     None       None            None        None        None   \n",
       "2        None     None       None            None        None        None   \n",
       "3        None     None       None            None        None        None   \n",
       "4  1987-06-20  9000.00        102              IT        1400  Programmer   \n",
       "\n",
       "  min_salary max_salary  \n",
       "0       None       None  \n",
       "1       None       None  \n",
       "2       None       None  \n",
       "3       None       None  \n",
       "4       4000      10000  "
      ]
     },
     "execution_count": 40,
     "metadata": {},
     "output_type": "execute_result"
    }
   ],
   "source": [
    "# With CTE\n",
    "tabel1 = sql_table (\n",
    "    '''\n",
    "    WITH \n",
    "    locations_table AS (\n",
    "        SELECT c.country_name, r.region_name, l.location_id, l.city\n",
    "        FROM countries c\n",
    "        INNER JOIN regions r on c.region_id = r.region_id\n",
    "        INNER JOIN locations l on c.country_id = l.country_id),\n",
    "    employees_table AS (\n",
    "        SELECT e.employee_id, e.hire_date, e.salary, e.manager_id, \n",
    "        d.department_name, d.location_id,\n",
    "        j.job_title, j.min_salary, j.max_salary\n",
    "        FROM employees e\n",
    "        INNER JOIN departments d on e.department_id = d.department_id\n",
    "        INNER JOIN jobs j on e.job_id = j.job_id)\n",
    "    SELECT *\n",
    "    FROM locations_table t1\n",
    "    LEFT JOIN employees_table t2 on t1.location_id = t2.location_id;\n",
    "    '''\n",
    ")\n",
    "tabel1.head()"
   ]
  },
  {
   "cell_type": "code",
   "execution_count": 41,
   "metadata": {},
   "outputs": [
    {
     "data": {
      "text/html": [
       "<div>\n",
       "<style scoped>\n",
       "    .dataframe tbody tr th:only-of-type {\n",
       "        vertical-align: middle;\n",
       "    }\n",
       "\n",
       "    .dataframe tbody tr th {\n",
       "        vertical-align: top;\n",
       "    }\n",
       "\n",
       "    .dataframe thead th {\n",
       "        text-align: right;\n",
       "    }\n",
       "</style>\n",
       "<table border=\"1\" class=\"dataframe\">\n",
       "  <thead>\n",
       "    <tr style=\"text-align: right;\">\n",
       "      <th></th>\n",
       "      <th>job_title</th>\n",
       "      <th>AVG_salary</th>\n",
       "    </tr>\n",
       "  </thead>\n",
       "  <tbody>\n",
       "    <tr>\n",
       "      <th>0</th>\n",
       "      <td>President</td>\n",
       "      <td>30000</td>\n",
       "    </tr>\n",
       "    <tr>\n",
       "      <th>1</th>\n",
       "      <td>Administration Vice President</td>\n",
       "      <td>22500</td>\n",
       "    </tr>\n",
       "    <tr>\n",
       "      <th>2</th>\n",
       "      <td>Administration Assistant</td>\n",
       "      <td>4500</td>\n",
       "    </tr>\n",
       "    <tr>\n",
       "      <th>3</th>\n",
       "      <td>Finance Manager</td>\n",
       "      <td>12100</td>\n",
       "    </tr>\n",
       "    <tr>\n",
       "      <th>4</th>\n",
       "      <td>Accountant</td>\n",
       "      <td>6600</td>\n",
       "    </tr>\n",
       "  </tbody>\n",
       "</table>\n",
       "</div>"
      ],
      "text/plain": [
       "                       job_title AVG_salary\n",
       "0                      President      30000\n",
       "1  Administration Vice President      22500\n",
       "2       Administration Assistant       4500\n",
       "3                Finance Manager      12100\n",
       "4                     Accountant       6600"
      ]
     },
     "execution_count": 41,
     "metadata": {},
     "output_type": "execute_result"
    }
   ],
   "source": [
    "tabel2 = sql_table (\n",
    "    '''\n",
    "    SELECT job_title, ROUND((max_salary + min_salary)/2,0) AS AVG_salary\n",
    "    FROM jobs;\n",
    "    '''\n",
    ")\n",
    "tabel2.head()"
   ]
  },
  {
   "cell_type": "markdown",
   "metadata": {},
   "source": [
    "### Exploring Anomalies in DataFrame\n",
    "\n",
    "Mencari nilai-nilai anomali yang ada di dataframe tabel1 dan tabel2 yaitu:\n",
    "- missing values\n",
    "- data formatting\n",
    "- duplicated data\n",
    "- outlier"
   ]
  },
  {
   "cell_type": "code",
   "execution_count": 42,
   "metadata": {},
   "outputs": [
    {
     "name": "stdout",
     "output_type": "stream",
     "text": [
      "<class 'pandas.core.frame.DataFrame'>\n",
      "RangeIndex: 87 entries, 0 to 86\n",
      "Data columns (total 13 columns):\n",
      " #   Column           Non-Null Count  Dtype \n",
      "---  ------           --------------  ----- \n",
      " 0   country_name     87 non-null     object\n",
      " 1   region_name      87 non-null     object\n",
      " 2   location_id      87 non-null     object\n",
      " 3   city             87 non-null     object\n",
      " 4   employee_id      72 non-null     object\n",
      " 5   hire_date        72 non-null     object\n",
      " 6   salary           72 non-null     object\n",
      " 7   manager_id       72 non-null     object\n",
      " 8   department_name  72 non-null     object\n",
      " 9   location_id      72 non-null     object\n",
      " 10  job_title        72 non-null     object\n",
      " 11  min_salary       72 non-null     object\n",
      " 12  max_salary       72 non-null     object\n",
      "dtypes: object(13)\n",
      "memory usage: 9.0+ KB\n",
      "<class 'pandas.core.frame.DataFrame'>\n",
      "RangeIndex: 19 entries, 0 to 18\n",
      "Data columns (total 2 columns):\n",
      " #   Column      Non-Null Count  Dtype \n",
      "---  ------      --------------  ----- \n",
      " 0   job_title   19 non-null     object\n",
      " 1   AVG_salary  19 non-null     object\n",
      "dtypes: object(2)\n",
      "memory usage: 432.0+ bytes\n"
     ]
    }
   ],
   "source": [
    "tabel1.info()\n",
    "tabel2.info()"
   ]
  },
  {
   "cell_type": "markdown",
   "metadata": {},
   "source": [
    "**Melihat Data Sekilas Dari General Info**\n",
    "\n",
    "- **Tabel 1**\n",
    "\n",
    "Mari sejenak melihat apa yang ditampilkan pada general info yang disajikan di atas. Terlihat bahwa secara keseluruhan terdapat 87 baris data dengan total 12 kolom. Setiap kolomnya memiliki tipe data object, integer, dan float. Jika melihat informasi tersebut, tidak semua kolom atau feature yang memiliki data lengkap. Kita bisa lihat bahwa dari kolom ```employee_id``` sampai kolom terakhir memiliki null-value atau data kosong sejumlah 15 data entry. Sembilan kolom tersebut kehilangan 17.24% data. **Kesimpulanya adalah bahwa terdapat *missing value* di tabel 1 yang harus ditanggulangi.**"
   ]
  },
  {
   "cell_type": "code",
   "execution_count": 43,
   "metadata": {},
   "outputs": [
    {
     "data": {
      "text/plain": [
       "country_name        0\n",
       "region_name         0\n",
       "location_id         0\n",
       "city                0\n",
       "employee_id        15\n",
       "hire_date          15\n",
       "salary             15\n",
       "manager_id         15\n",
       "department_name    15\n",
       "location_id        15\n",
       "job_title          15\n",
       "min_salary         15\n",
       "max_salary         15\n",
       "dtype: int64"
      ]
     },
     "execution_count": 43,
     "metadata": {},
     "output_type": "execute_result"
    }
   ],
   "source": [
    "tabel1.isnull().sum()"
   ]
  },
  {
   "cell_type": "markdown",
   "metadata": {},
   "source": [
    "- **Tabel 2**\n",
    "\n",
    "Terdapat 19 entries dan 2 kolom atau feature pada tabel 2 dimana untuk setiap kolom tidak ada null-value sehingga **Kesimpulanya adalah tidak terdapat *missing value* di tabel 2.**"
   ]
  },
  {
   "cell_type": "markdown",
   "metadata": {},
   "source": [
    "#### 1. Missing Value\n",
    "Terdapat missing value pada tabel 1 sebesar 17.24%. Untuk justifikasi, kita lihat dahulu data apa saja yang memiliki null-value."
   ]
  },
  {
   "cell_type": "code",
   "execution_count": 44,
   "metadata": {},
   "outputs": [],
   "source": [
    "# Data null-value\n",
    "tabel1.dropna(inplace = True)"
   ]
  },
  {
   "cell_type": "code",
   "execution_count": 45,
   "metadata": {},
   "outputs": [
    {
     "data": {
      "text/plain": [
       "country_name       0\n",
       "region_name        0\n",
       "location_id        0\n",
       "city               0\n",
       "employee_id        0\n",
       "hire_date          0\n",
       "salary             0\n",
       "manager_id         0\n",
       "department_name    0\n",
       "location_id        0\n",
       "job_title          0\n",
       "min_salary         0\n",
       "max_salary         0\n",
       "dtype: int64"
      ]
     },
     "execution_count": 45,
     "metadata": {},
     "output_type": "execute_result"
    }
   ],
   "source": [
    "# Check kembali\n",
    "tabel1.isnull().sum()"
   ]
  },
  {
   "cell_type": "code",
   "execution_count": 46,
   "metadata": {},
   "outputs": [
    {
     "data": {
      "text/html": [
       "<div>\n",
       "<style scoped>\n",
       "    .dataframe tbody tr th:only-of-type {\n",
       "        vertical-align: middle;\n",
       "    }\n",
       "\n",
       "    .dataframe tbody tr th {\n",
       "        vertical-align: top;\n",
       "    }\n",
       "\n",
       "    .dataframe thead th {\n",
       "        text-align: right;\n",
       "    }\n",
       "</style>\n",
       "<table border=\"1\" class=\"dataframe\">\n",
       "  <thead>\n",
       "    <tr style=\"text-align: right;\">\n",
       "      <th></th>\n",
       "      <th>index</th>\n",
       "      <th>country_name</th>\n",
       "      <th>region_name</th>\n",
       "      <th>location_id</th>\n",
       "      <th>city</th>\n",
       "      <th>employee_id</th>\n",
       "      <th>hire_date</th>\n",
       "      <th>salary</th>\n",
       "      <th>manager_id</th>\n",
       "      <th>department_name</th>\n",
       "      <th>location_id</th>\n",
       "      <th>job_title</th>\n",
       "      <th>min_salary</th>\n",
       "      <th>max_salary</th>\n",
       "    </tr>\n",
       "  </thead>\n",
       "  <tbody>\n",
       "    <tr>\n",
       "      <th>0</th>\n",
       "      <td>4</td>\n",
       "      <td>United States of America</td>\n",
       "      <td>Americas\\r</td>\n",
       "      <td>1400</td>\n",
       "      <td>Southlake</td>\n",
       "      <td>103</td>\n",
       "      <td>1987-06-20</td>\n",
       "      <td>9000.00</td>\n",
       "      <td>102</td>\n",
       "      <td>IT</td>\n",
       "      <td>1400</td>\n",
       "      <td>Programmer</td>\n",
       "      <td>4000</td>\n",
       "      <td>10000</td>\n",
       "    </tr>\n",
       "    <tr>\n",
       "      <th>1</th>\n",
       "      <td>5</td>\n",
       "      <td>United States of America</td>\n",
       "      <td>Americas\\r</td>\n",
       "      <td>1400</td>\n",
       "      <td>Southlake</td>\n",
       "      <td>104</td>\n",
       "      <td>1987-06-21</td>\n",
       "      <td>6000.00</td>\n",
       "      <td>103</td>\n",
       "      <td>IT</td>\n",
       "      <td>1400</td>\n",
       "      <td>Programmer</td>\n",
       "      <td>4000</td>\n",
       "      <td>10000</td>\n",
       "    </tr>\n",
       "    <tr>\n",
       "      <th>2</th>\n",
       "      <td>6</td>\n",
       "      <td>United States of America</td>\n",
       "      <td>Americas\\r</td>\n",
       "      <td>1400</td>\n",
       "      <td>Southlake</td>\n",
       "      <td>105</td>\n",
       "      <td>1987-06-22</td>\n",
       "      <td>4800.00</td>\n",
       "      <td>103</td>\n",
       "      <td>IT</td>\n",
       "      <td>1400</td>\n",
       "      <td>Programmer</td>\n",
       "      <td>4000</td>\n",
       "      <td>10000</td>\n",
       "    </tr>\n",
       "    <tr>\n",
       "      <th>3</th>\n",
       "      <td>7</td>\n",
       "      <td>United States of America</td>\n",
       "      <td>Americas\\r</td>\n",
       "      <td>1400</td>\n",
       "      <td>Southlake</td>\n",
       "      <td>106</td>\n",
       "      <td>1987-06-23</td>\n",
       "      <td>4800.00</td>\n",
       "      <td>103</td>\n",
       "      <td>IT</td>\n",
       "      <td>1400</td>\n",
       "      <td>Programmer</td>\n",
       "      <td>4000</td>\n",
       "      <td>10000</td>\n",
       "    </tr>\n",
       "    <tr>\n",
       "      <th>4</th>\n",
       "      <td>8</td>\n",
       "      <td>United States of America</td>\n",
       "      <td>Americas\\r</td>\n",
       "      <td>1400</td>\n",
       "      <td>Southlake</td>\n",
       "      <td>107</td>\n",
       "      <td>1987-06-24</td>\n",
       "      <td>4200.00</td>\n",
       "      <td>103</td>\n",
       "      <td>IT</td>\n",
       "      <td>1400</td>\n",
       "      <td>Programmer</td>\n",
       "      <td>4000</td>\n",
       "      <td>10000</td>\n",
       "    </tr>\n",
       "  </tbody>\n",
       "</table>\n",
       "</div>"
      ],
      "text/plain": [
       "   index              country_name region_name location_id       city  \\\n",
       "0      4  United States of America  Americas\\r        1400  Southlake   \n",
       "1      5  United States of America  Americas\\r        1400  Southlake   \n",
       "2      6  United States of America  Americas\\r        1400  Southlake   \n",
       "3      7  United States of America  Americas\\r        1400  Southlake   \n",
       "4      8  United States of America  Americas\\r        1400  Southlake   \n",
       "\n",
       "  employee_id   hire_date   salary manager_id department_name location_id  \\\n",
       "0         103  1987-06-20  9000.00        102              IT        1400   \n",
       "1         104  1987-06-21  6000.00        103              IT        1400   \n",
       "2         105  1987-06-22  4800.00        103              IT        1400   \n",
       "3         106  1987-06-23  4800.00        103              IT        1400   \n",
       "4         107  1987-06-24  4200.00        103              IT        1400   \n",
       "\n",
       "    job_title min_salary max_salary  \n",
       "0  Programmer       4000      10000  \n",
       "1  Programmer       4000      10000  \n",
       "2  Programmer       4000      10000  \n",
       "3  Programmer       4000      10000  \n",
       "4  Programmer       4000      10000  "
      ]
     },
     "execution_count": 46,
     "metadata": {},
     "output_type": "execute_result"
    }
   ],
   "source": [
    "tabel1.reset_index().head()"
   ]
  },
  {
   "cell_type": "markdown",
   "metadata": {},
   "source": [
    "#### 2. Data formatting\n",
    "Terdapat anomali pada kolom region_name dimana seluruh region diakhiri dengan teks '\\r'. dan juga terdapat data type yang tidak sesuai."
   ]
  },
  {
   "cell_type": "code",
   "execution_count": 47,
   "metadata": {},
   "outputs": [],
   "source": [
    "tabel1['region_name'] = tabel1['region_name'].str.replace('\\r','')"
   ]
  },
  {
   "cell_type": "code",
   "execution_count": 48,
   "metadata": {},
   "outputs": [
    {
     "data": {
      "text/html": [
       "<div>\n",
       "<style scoped>\n",
       "    .dataframe tbody tr th:only-of-type {\n",
       "        vertical-align: middle;\n",
       "    }\n",
       "\n",
       "    .dataframe tbody tr th {\n",
       "        vertical-align: top;\n",
       "    }\n",
       "\n",
       "    .dataframe thead th {\n",
       "        text-align: right;\n",
       "    }\n",
       "</style>\n",
       "<table border=\"1\" class=\"dataframe\">\n",
       "  <thead>\n",
       "    <tr style=\"text-align: right;\">\n",
       "      <th></th>\n",
       "      <th>country_name</th>\n",
       "      <th>region_name</th>\n",
       "      <th>location_id</th>\n",
       "      <th>city</th>\n",
       "      <th>employee_id</th>\n",
       "      <th>hire_date</th>\n",
       "      <th>salary</th>\n",
       "      <th>manager_id</th>\n",
       "      <th>department_name</th>\n",
       "      <th>location_id</th>\n",
       "      <th>job_title</th>\n",
       "      <th>min_salary</th>\n",
       "      <th>max_salary</th>\n",
       "    </tr>\n",
       "  </thead>\n",
       "  <tbody>\n",
       "    <tr>\n",
       "      <th>4</th>\n",
       "      <td>United States of America</td>\n",
       "      <td>Americas</td>\n",
       "      <td>1400</td>\n",
       "      <td>Southlake</td>\n",
       "      <td>103</td>\n",
       "      <td>1987-06-20</td>\n",
       "      <td>9000.00</td>\n",
       "      <td>102</td>\n",
       "      <td>IT</td>\n",
       "      <td>1400</td>\n",
       "      <td>Programmer</td>\n",
       "      <td>4000</td>\n",
       "      <td>10000</td>\n",
       "    </tr>\n",
       "    <tr>\n",
       "      <th>5</th>\n",
       "      <td>United States of America</td>\n",
       "      <td>Americas</td>\n",
       "      <td>1400</td>\n",
       "      <td>Southlake</td>\n",
       "      <td>104</td>\n",
       "      <td>1987-06-21</td>\n",
       "      <td>6000.00</td>\n",
       "      <td>103</td>\n",
       "      <td>IT</td>\n",
       "      <td>1400</td>\n",
       "      <td>Programmer</td>\n",
       "      <td>4000</td>\n",
       "      <td>10000</td>\n",
       "    </tr>\n",
       "    <tr>\n",
       "      <th>6</th>\n",
       "      <td>United States of America</td>\n",
       "      <td>Americas</td>\n",
       "      <td>1400</td>\n",
       "      <td>Southlake</td>\n",
       "      <td>105</td>\n",
       "      <td>1987-06-22</td>\n",
       "      <td>4800.00</td>\n",
       "      <td>103</td>\n",
       "      <td>IT</td>\n",
       "      <td>1400</td>\n",
       "      <td>Programmer</td>\n",
       "      <td>4000</td>\n",
       "      <td>10000</td>\n",
       "    </tr>\n",
       "    <tr>\n",
       "      <th>7</th>\n",
       "      <td>United States of America</td>\n",
       "      <td>Americas</td>\n",
       "      <td>1400</td>\n",
       "      <td>Southlake</td>\n",
       "      <td>106</td>\n",
       "      <td>1987-06-23</td>\n",
       "      <td>4800.00</td>\n",
       "      <td>103</td>\n",
       "      <td>IT</td>\n",
       "      <td>1400</td>\n",
       "      <td>Programmer</td>\n",
       "      <td>4000</td>\n",
       "      <td>10000</td>\n",
       "    </tr>\n",
       "    <tr>\n",
       "      <th>8</th>\n",
       "      <td>United States of America</td>\n",
       "      <td>Americas</td>\n",
       "      <td>1400</td>\n",
       "      <td>Southlake</td>\n",
       "      <td>107</td>\n",
       "      <td>1987-06-24</td>\n",
       "      <td>4200.00</td>\n",
       "      <td>103</td>\n",
       "      <td>IT</td>\n",
       "      <td>1400</td>\n",
       "      <td>Programmer</td>\n",
       "      <td>4000</td>\n",
       "      <td>10000</td>\n",
       "    </tr>\n",
       "  </tbody>\n",
       "</table>\n",
       "</div>"
      ],
      "text/plain": [
       "               country_name region_name location_id       city employee_id  \\\n",
       "4  United States of America    Americas        1400  Southlake         103   \n",
       "5  United States of America    Americas        1400  Southlake         104   \n",
       "6  United States of America    Americas        1400  Southlake         105   \n",
       "7  United States of America    Americas        1400  Southlake         106   \n",
       "8  United States of America    Americas        1400  Southlake         107   \n",
       "\n",
       "    hire_date   salary manager_id department_name location_id   job_title  \\\n",
       "4  1987-06-20  9000.00        102              IT        1400  Programmer   \n",
       "5  1987-06-21  6000.00        103              IT        1400  Programmer   \n",
       "6  1987-06-22  4800.00        103              IT        1400  Programmer   \n",
       "7  1987-06-23  4800.00        103              IT        1400  Programmer   \n",
       "8  1987-06-24  4200.00        103              IT        1400  Programmer   \n",
       "\n",
       "  min_salary max_salary  \n",
       "4       4000      10000  \n",
       "5       4000      10000  \n",
       "6       4000      10000  \n",
       "7       4000      10000  \n",
       "8       4000      10000  "
      ]
     },
     "execution_count": 48,
     "metadata": {},
     "output_type": "execute_result"
    }
   ],
   "source": [
    "tabel1.head()"
   ]
  },
  {
   "cell_type": "markdown",
   "metadata": {},
   "source": [
    "Terdapat juga format data type yang salah yaitu:\n",
    "- kolom hire_date data type nya object seharusnya datetime\n",
    "- kolom salary data type nya object seharusnya numeric\n",
    "- kolom min_salary data type nya object seharusnya numeric\n",
    "- olom max_salary data type nya object seharusnya numeric"
   ]
  },
  {
   "cell_type": "code",
   "execution_count": 49,
   "metadata": {},
   "outputs": [],
   "source": [
    "# Change Datatype\n",
    "tabel1['hire_date'] = pd.to_datetime(tabel1['hire_date'])\n",
    "tabel1['salary'] = pd.to_numeric(tabel1['salary'])\n",
    "tabel1['min_salary'] = pd.to_numeric(tabel1['min_salary'])\n",
    "tabel1['max_salary'] = pd.to_numeric(tabel1['max_salary'])\n",
    "tabel2['AVG_salary'] = pd.to_numeric(tabel2['AVG_salary'])"
   ]
  },
  {
   "cell_type": "code",
   "execution_count": 50,
   "metadata": {},
   "outputs": [
    {
     "data": {
      "text/html": [
       "<div>\n",
       "<style scoped>\n",
       "    .dataframe tbody tr th:only-of-type {\n",
       "        vertical-align: middle;\n",
       "    }\n",
       "\n",
       "    .dataframe tbody tr th {\n",
       "        vertical-align: top;\n",
       "    }\n",
       "\n",
       "    .dataframe thead th {\n",
       "        text-align: right;\n",
       "    }\n",
       "</style>\n",
       "<table border=\"1\" class=\"dataframe\">\n",
       "  <thead>\n",
       "    <tr style=\"text-align: right;\">\n",
       "      <th></th>\n",
       "      <th>country_name</th>\n",
       "      <th>region_name</th>\n",
       "      <th>location_id</th>\n",
       "      <th>city</th>\n",
       "      <th>employee_id</th>\n",
       "      <th>hire_date</th>\n",
       "      <th>salary</th>\n",
       "      <th>manager_id</th>\n",
       "      <th>department_name</th>\n",
       "      <th>location_id</th>\n",
       "      <th>job_title</th>\n",
       "      <th>min_salary</th>\n",
       "      <th>max_salary</th>\n",
       "    </tr>\n",
       "  </thead>\n",
       "  <tbody>\n",
       "    <tr>\n",
       "      <th>4</th>\n",
       "      <td>United States of America</td>\n",
       "      <td>Americas</td>\n",
       "      <td>1400</td>\n",
       "      <td>Southlake</td>\n",
       "      <td>103</td>\n",
       "      <td>1987-06-20</td>\n",
       "      <td>9000.0</td>\n",
       "      <td>102</td>\n",
       "      <td>IT</td>\n",
       "      <td>1400</td>\n",
       "      <td>Programmer</td>\n",
       "      <td>4000.0</td>\n",
       "      <td>10000.0</td>\n",
       "    </tr>\n",
       "    <tr>\n",
       "      <th>5</th>\n",
       "      <td>United States of America</td>\n",
       "      <td>Americas</td>\n",
       "      <td>1400</td>\n",
       "      <td>Southlake</td>\n",
       "      <td>104</td>\n",
       "      <td>1987-06-21</td>\n",
       "      <td>6000.0</td>\n",
       "      <td>103</td>\n",
       "      <td>IT</td>\n",
       "      <td>1400</td>\n",
       "      <td>Programmer</td>\n",
       "      <td>4000.0</td>\n",
       "      <td>10000.0</td>\n",
       "    </tr>\n",
       "    <tr>\n",
       "      <th>6</th>\n",
       "      <td>United States of America</td>\n",
       "      <td>Americas</td>\n",
       "      <td>1400</td>\n",
       "      <td>Southlake</td>\n",
       "      <td>105</td>\n",
       "      <td>1987-06-22</td>\n",
       "      <td>4800.0</td>\n",
       "      <td>103</td>\n",
       "      <td>IT</td>\n",
       "      <td>1400</td>\n",
       "      <td>Programmer</td>\n",
       "      <td>4000.0</td>\n",
       "      <td>10000.0</td>\n",
       "    </tr>\n",
       "    <tr>\n",
       "      <th>7</th>\n",
       "      <td>United States of America</td>\n",
       "      <td>Americas</td>\n",
       "      <td>1400</td>\n",
       "      <td>Southlake</td>\n",
       "      <td>106</td>\n",
       "      <td>1987-06-23</td>\n",
       "      <td>4800.0</td>\n",
       "      <td>103</td>\n",
       "      <td>IT</td>\n",
       "      <td>1400</td>\n",
       "      <td>Programmer</td>\n",
       "      <td>4000.0</td>\n",
       "      <td>10000.0</td>\n",
       "    </tr>\n",
       "    <tr>\n",
       "      <th>8</th>\n",
       "      <td>United States of America</td>\n",
       "      <td>Americas</td>\n",
       "      <td>1400</td>\n",
       "      <td>Southlake</td>\n",
       "      <td>107</td>\n",
       "      <td>1987-06-24</td>\n",
       "      <td>4200.0</td>\n",
       "      <td>103</td>\n",
       "      <td>IT</td>\n",
       "      <td>1400</td>\n",
       "      <td>Programmer</td>\n",
       "      <td>4000.0</td>\n",
       "      <td>10000.0</td>\n",
       "    </tr>\n",
       "  </tbody>\n",
       "</table>\n",
       "</div>"
      ],
      "text/plain": [
       "               country_name region_name location_id       city employee_id  \\\n",
       "4  United States of America    Americas        1400  Southlake         103   \n",
       "5  United States of America    Americas        1400  Southlake         104   \n",
       "6  United States of America    Americas        1400  Southlake         105   \n",
       "7  United States of America    Americas        1400  Southlake         106   \n",
       "8  United States of America    Americas        1400  Southlake         107   \n",
       "\n",
       "   hire_date  salary manager_id department_name location_id   job_title  \\\n",
       "4 1987-06-20  9000.0        102              IT        1400  Programmer   \n",
       "5 1987-06-21  6000.0        103              IT        1400  Programmer   \n",
       "6 1987-06-22  4800.0        103              IT        1400  Programmer   \n",
       "7 1987-06-23  4800.0        103              IT        1400  Programmer   \n",
       "8 1987-06-24  4200.0        103              IT        1400  Programmer   \n",
       "\n",
       "   min_salary  max_salary  \n",
       "4      4000.0     10000.0  \n",
       "5      4000.0     10000.0  \n",
       "6      4000.0     10000.0  \n",
       "7      4000.0     10000.0  \n",
       "8      4000.0     10000.0  "
      ]
     },
     "execution_count": 50,
     "metadata": {},
     "output_type": "execute_result"
    }
   ],
   "source": [
    "# Check\n",
    "tabel1.head()"
   ]
  },
  {
   "cell_type": "code",
   "execution_count": 51,
   "metadata": {},
   "outputs": [
    {
     "data": {
      "text/html": [
       "<div>\n",
       "<style scoped>\n",
       "    .dataframe tbody tr th:only-of-type {\n",
       "        vertical-align: middle;\n",
       "    }\n",
       "\n",
       "    .dataframe tbody tr th {\n",
       "        vertical-align: top;\n",
       "    }\n",
       "\n",
       "    .dataframe thead th {\n",
       "        text-align: right;\n",
       "    }\n",
       "</style>\n",
       "<table border=\"1\" class=\"dataframe\">\n",
       "  <thead>\n",
       "    <tr style=\"text-align: right;\">\n",
       "      <th></th>\n",
       "      <th>job_title</th>\n",
       "      <th>AVG_salary</th>\n",
       "    </tr>\n",
       "  </thead>\n",
       "  <tbody>\n",
       "    <tr>\n",
       "      <th>0</th>\n",
       "      <td>President</td>\n",
       "      <td>30000.0</td>\n",
       "    </tr>\n",
       "    <tr>\n",
       "      <th>1</th>\n",
       "      <td>Administration Vice President</td>\n",
       "      <td>22500.0</td>\n",
       "    </tr>\n",
       "    <tr>\n",
       "      <th>2</th>\n",
       "      <td>Administration Assistant</td>\n",
       "      <td>4500.0</td>\n",
       "    </tr>\n",
       "    <tr>\n",
       "      <th>3</th>\n",
       "      <td>Finance Manager</td>\n",
       "      <td>12100.0</td>\n",
       "    </tr>\n",
       "    <tr>\n",
       "      <th>4</th>\n",
       "      <td>Accountant</td>\n",
       "      <td>6600.0</td>\n",
       "    </tr>\n",
       "  </tbody>\n",
       "</table>\n",
       "</div>"
      ],
      "text/plain": [
       "                       job_title  AVG_salary\n",
       "0                      President     30000.0\n",
       "1  Administration Vice President     22500.0\n",
       "2       Administration Assistant      4500.0\n",
       "3                Finance Manager     12100.0\n",
       "4                     Accountant      6600.0"
      ]
     },
     "execution_count": 51,
     "metadata": {},
     "output_type": "execute_result"
    }
   ],
   "source": [
    "# check juga tabel 2\n",
    "tabel2.head()"
   ]
  },
  {
   "cell_type": "markdown",
   "metadata": {},
   "source": [
    "#### 3. Duplicated Data\n",
    "Dilakukan pemeriksaan apakah ada data duplikat pada tabel 1 dan 2."
   ]
  },
  {
   "cell_type": "code",
   "execution_count": 52,
   "metadata": {},
   "outputs": [
    {
     "data": {
      "text/html": [
       "<div>\n",
       "<style scoped>\n",
       "    .dataframe tbody tr th:only-of-type {\n",
       "        vertical-align: middle;\n",
       "    }\n",
       "\n",
       "    .dataframe tbody tr th {\n",
       "        vertical-align: top;\n",
       "    }\n",
       "\n",
       "    .dataframe thead th {\n",
       "        text-align: right;\n",
       "    }\n",
       "</style>\n",
       "<table border=\"1\" class=\"dataframe\">\n",
       "  <thead>\n",
       "    <tr style=\"text-align: right;\">\n",
       "      <th></th>\n",
       "      <th>country_name</th>\n",
       "      <th>region_name</th>\n",
       "      <th>location_id</th>\n",
       "      <th>city</th>\n",
       "      <th>employee_id</th>\n",
       "      <th>hire_date</th>\n",
       "      <th>salary</th>\n",
       "      <th>manager_id</th>\n",
       "      <th>department_name</th>\n",
       "      <th>location_id</th>\n",
       "      <th>job_title</th>\n",
       "      <th>min_salary</th>\n",
       "      <th>max_salary</th>\n",
       "    </tr>\n",
       "  </thead>\n",
       "  <tbody>\n",
       "  </tbody>\n",
       "</table>\n",
       "</div>"
      ],
      "text/plain": [
       "Empty DataFrame\n",
       "Columns: [country_name, region_name, location_id, city, employee_id, hire_date, salary, manager_id, department_name, location_id, job_title, min_salary, max_salary]\n",
       "Index: []"
      ]
     },
     "execution_count": 52,
     "metadata": {},
     "output_type": "execute_result"
    }
   ],
   "source": [
    "# Checking duplicated data in tabel 1\n",
    "tabel1[tabel1.duplicated()]"
   ]
  },
  {
   "cell_type": "code",
   "execution_count": 53,
   "metadata": {},
   "outputs": [
    {
     "data": {
      "text/html": [
       "<div>\n",
       "<style scoped>\n",
       "    .dataframe tbody tr th:only-of-type {\n",
       "        vertical-align: middle;\n",
       "    }\n",
       "\n",
       "    .dataframe tbody tr th {\n",
       "        vertical-align: top;\n",
       "    }\n",
       "\n",
       "    .dataframe thead th {\n",
       "        text-align: right;\n",
       "    }\n",
       "</style>\n",
       "<table border=\"1\" class=\"dataframe\">\n",
       "  <thead>\n",
       "    <tr style=\"text-align: right;\">\n",
       "      <th></th>\n",
       "      <th>job_title</th>\n",
       "      <th>AVG_salary</th>\n",
       "    </tr>\n",
       "  </thead>\n",
       "  <tbody>\n",
       "  </tbody>\n",
       "</table>\n",
       "</div>"
      ],
      "text/plain": [
       "Empty DataFrame\n",
       "Columns: [job_title, AVG_salary]\n",
       "Index: []"
      ]
     },
     "execution_count": 53,
     "metadata": {},
     "output_type": "execute_result"
    }
   ],
   "source": [
    "# Checking duplicated data in tabel 2\n",
    "tabel2[tabel2.duplicated()]"
   ]
  },
  {
   "cell_type": "markdown",
   "metadata": {},
   "source": [
    "**Kesimpulanya adalah tidak terdapat *duplicated data* di tabel 1 dan 2.**"
   ]
  },
  {
   "cell_type": "markdown",
   "metadata": {},
   "source": [
    "#### 4. Outlier Data\n",
    "Dilakukan pemeriksaan terhadap distribusi data setiap feature, kemudian diidentifikasi dan ditangani data-data outlier yang mungkin ada."
   ]
  },
  {
   "cell_type": "code",
   "execution_count": 54,
   "metadata": {},
   "outputs": [],
   "source": [
    "import matplotlib.pyplot as plt\n",
    "import seaborn as sns"
   ]
  },
  {
   "cell_type": "code",
   "execution_count": 55,
   "metadata": {},
   "outputs": [
    {
     "data": {
      "image/png": "[encoded data removed]",
      "text/plain": [
       "<Figure size 432x288 with 1 Axes>"
      ]
     },
     "metadata": {
      "needs_background": "light"
     },
     "output_type": "display_data"
    }
   ],
   "source": [
    "tabel1_outlier = sns.boxplot(x = tabel1['salary'])"
   ]
  },
  {
   "cell_type": "markdown",
   "metadata": {},
   "source": [
    "Terdapat 3 data outlier untuk feature ``salary``. yaitu:"
   ]
  },
  {
   "cell_type": "code",
   "execution_count": 56,
   "metadata": {},
   "outputs": [
    {
     "data": {
      "text/html": [
       "<div>\n",
       "<style scoped>\n",
       "    .dataframe tbody tr th:only-of-type {\n",
       "        vertical-align: middle;\n",
       "    }\n",
       "\n",
       "    .dataframe tbody tr th {\n",
       "        vertical-align: top;\n",
       "    }\n",
       "\n",
       "    .dataframe thead th {\n",
       "        text-align: right;\n",
       "    }\n",
       "</style>\n",
       "<table border=\"1\" class=\"dataframe\">\n",
       "  <thead>\n",
       "    <tr style=\"text-align: right;\">\n",
       "      <th></th>\n",
       "      <th>job_title</th>\n",
       "      <th>salary</th>\n",
       "    </tr>\n",
       "  </thead>\n",
       "  <tbody>\n",
       "    <tr>\n",
       "      <th>62</th>\n",
       "      <td>President</td>\n",
       "      <td>24000.0</td>\n",
       "    </tr>\n",
       "    <tr>\n",
       "      <th>64</th>\n",
       "      <td>Administration Vice President</td>\n",
       "      <td>17000.0</td>\n",
       "    </tr>\n",
       "    <tr>\n",
       "      <th>63</th>\n",
       "      <td>Administration Vice President</td>\n",
       "      <td>17000.0</td>\n",
       "    </tr>\n",
       "  </tbody>\n",
       "</table>\n",
       "</div>"
      ],
      "text/plain": [
       "                        job_title   salary\n",
       "62                      President  24000.0\n",
       "64  Administration Vice President  17000.0\n",
       "63  Administration Vice President  17000.0"
      ]
     },
     "execution_count": 56,
     "metadata": {},
     "output_type": "execute_result"
    }
   ],
   "source": [
    "tabel1.sort_values(by='salary', ascending=False).head(3)[['job_title','salary']]"
   ]
  },
  {
   "cell_type": "markdown",
   "metadata": {},
   "source": [
    "Dapat dilihat bahwa ketiga outlier salary bisa diterima (logis) karena ketiga nya masing masing memiliki jabatan president, vice president, dan vice president sehingga data tidak dihapus dari dataframe."
   ]
  },
  {
   "cell_type": "markdown",
   "metadata": {},
   "source": [
    "### Conduct Data Analysis\n",
    "\n",
    "Melakukan analisis data berdasarkan pertanyaan-pertanyaan yang sudah di formulasikan."
   ]
  },
  {
   "cell_type": "markdown",
   "metadata": {},
   "source": [
    "1. Profiling Karyawan.\n",
    "- Karyawan terbanyak untuk tiap region, negara dan cabang?\n",
    "- Rata-rata periode kerja terpanjang untuk tiap posisi pekerjaan?\n",
    "- Karyawan dengan periode kerja terpanjang?\n",
    "- Bagaimana distribusi gaji untuk setiap posisi pekerjaan?\n",
    "- Pengeluaran untuk gaji karyawan terbesar di tiap negara?\n",
    "- Bagaimana perbandingan rata-rata gaji karyawan di tiap posisi antara actual dan kisaran range perusahaan?\n",
    "\n",
    "2. Manager profiling.\n",
    "- Berapa jumlah personil yang disupervisi oleh setiap manager?\n",
    "- Berapa jumlah manager di tiap kantor cabang?\n",
    "- Rata-rata gaji manager di tiap kantor cabang?"
   ]
  },
  {
   "cell_type": "markdown",
   "metadata": {},
   "source": [
    "### 1.1. Karyawan terbanyak untuk tiap region, negara dan cabang?\n"
   ]
  },
  {
   "cell_type": "code",
   "execution_count": 57,
   "metadata": {},
   "outputs": [
    {
     "data": {
      "text/html": [
       "<div>\n",
       "<style scoped>\n",
       "    .dataframe tbody tr th:only-of-type {\n",
       "        vertical-align: middle;\n",
       "    }\n",
       "\n",
       "    .dataframe tbody tr th {\n",
       "        vertical-align: top;\n",
       "    }\n",
       "\n",
       "    .dataframe thead th {\n",
       "        text-align: right;\n",
       "    }\n",
       "</style>\n",
       "<table border=\"1\" class=\"dataframe\">\n",
       "  <thead>\n",
       "    <tr style=\"text-align: right;\">\n",
       "      <th></th>\n",
       "      <th>Region</th>\n",
       "      <th>Country</th>\n",
       "      <th>City</th>\n",
       "      <th>Total Employee</th>\n",
       "    </tr>\n",
       "  </thead>\n",
       "  <tbody>\n",
       "    <tr>\n",
       "      <th>2</th>\n",
       "      <td>Americas</td>\n",
       "      <td>United States of America</td>\n",
       "      <td>South San Francisco</td>\n",
       "      <td>7090</td>\n",
       "    </tr>\n",
       "    <tr>\n",
       "      <th>1</th>\n",
       "      <td>Americas</td>\n",
       "      <td>United States of America</td>\n",
       "      <td>Seattle</td>\n",
       "      <td>2276</td>\n",
       "    </tr>\n",
       "    <tr>\n",
       "      <th>3</th>\n",
       "      <td>Americas</td>\n",
       "      <td>United States of America</td>\n",
       "      <td>Southlake</td>\n",
       "      <td>525</td>\n",
       "    </tr>\n",
       "    <tr>\n",
       "      <th>0</th>\n",
       "      <td>Americas</td>\n",
       "      <td>Canada</td>\n",
       "      <td>Toronto</td>\n",
       "      <td>403</td>\n",
       "    </tr>\n",
       "    <tr>\n",
       "      <th>4</th>\n",
       "      <td>Europe</td>\n",
       "      <td>Germany</td>\n",
       "      <td>Munich</td>\n",
       "      <td>204</td>\n",
       "    </tr>\n",
       "    <tr>\n",
       "      <th>5</th>\n",
       "      <td>Europe</td>\n",
       "      <td>United Kingdom</td>\n",
       "      <td>London</td>\n",
       "      <td>203</td>\n",
       "    </tr>\n",
       "  </tbody>\n",
       "</table>\n",
       "</div>"
      ],
      "text/plain": [
       "     Region                   Country                 City Total Employee\n",
       "2  Americas  United States of America  South San Francisco           7090\n",
       "1  Americas  United States of America              Seattle           2276\n",
       "3  Americas  United States of America            Southlake            525\n",
       "0  Americas                    Canada              Toronto            403\n",
       "4    Europe                   Germany               Munich            204\n",
       "5    Europe            United Kingdom               London            203"
      ]
     },
     "execution_count": 57,
     "metadata": {},
     "output_type": "execute_result"
    }
   ],
   "source": [
    "# Membuat tabel\n",
    "tabel1_1 = tabel1.groupby(['region_name','country_name','city'])['employee_id'].sum().reset_index()\n",
    "tabel1_1 = tabel1_1.sort_values(by='employee_id',ascending=False)\n",
    "tabel1_1.columns = ['Region','Country','City','Total Employee']\n",
    "tabel1_1"
   ]
  },
  {
   "cell_type": "code",
   "execution_count": 58,
   "metadata": {},
   "outputs": [
    {
     "data": {
      "image/png": "[encoded data removed]",
      "text/plain": [
       "<Figure size 720x576 with 1 Axes>"
      ]
     },
     "metadata": {
      "needs_background": "light"
     },
     "output_type": "display_data"
    }
   ],
   "source": [
    "plt.figure(figsize=(10,8))\n",
    "plt.title('Jumlah Karyawan di tiap negara dan Kota',size=20)\n",
    "sns.barplot(data=tabel1_1, x='City', y='Total Employee', hue='Country')\n",
    "plt.show()"
   ]
  },
  {
   "cell_type": "markdown",
   "metadata": {},
   "source": [
    "Dari barplot di atas dapat disimpulkan bahwa South San Francisco memiliki Karyawan paling banyak yaitu 7090 karyawan, disusul dengan Seattle sebesar 2276 karyawan dan Southlake sebesar 525 karyawan. Untuk country yang memiliki paling banyak karyawan adalah United State of America karena ketiga perusahaan dengan karyawan terbesar terdapat pada negara tersebut."
   ]
  },
  {
   "cell_type": "markdown",
   "metadata": {},
   "source": [
    "### 1.2. Bagaimana perbandingan rata-rata gaji karyawan di tiap posisi antara actual dan kisaran range perusahaan?"
   ]
  },
  {
   "cell_type": "code",
   "execution_count": 59,
   "metadata": {},
   "outputs": [
    {
     "data": {
      "text/html": [
       "<div>\n",
       "<style scoped>\n",
       "    .dataframe tbody tr th:only-of-type {\n",
       "        vertical-align: middle;\n",
       "    }\n",
       "\n",
       "    .dataframe tbody tr th {\n",
       "        vertical-align: top;\n",
       "    }\n",
       "\n",
       "    .dataframe thead th {\n",
       "        text-align: right;\n",
       "    }\n",
       "</style>\n",
       "<table border=\"1\" class=\"dataframe\">\n",
       "  <thead>\n",
       "    <tr style=\"text-align: right;\">\n",
       "      <th></th>\n",
       "      <th>Jabatan Pekerjaan</th>\n",
       "      <th>Rata-rata actual</th>\n",
       "      <th>Kisaran Range Perusahaan</th>\n",
       "      <th>Perbedaan</th>\n",
       "    </tr>\n",
       "  </thead>\n",
       "  <tbody>\n",
       "    <tr>\n",
       "      <th>11</th>\n",
       "      <td>Public Relations Representative</td>\n",
       "      <td>10000.0</td>\n",
       "      <td>7500.0</td>\n",
       "      <td>2500.0</td>\n",
       "    </tr>\n",
       "    <tr>\n",
       "      <th>10</th>\n",
       "      <td>Public Accountant</td>\n",
       "      <td>8300.0</td>\n",
       "      <td>6600.0</td>\n",
       "      <td>1700.0</td>\n",
       "    </tr>\n",
       "    <tr>\n",
       "      <th>0</th>\n",
       "      <td>Accountant</td>\n",
       "      <td>7920.0</td>\n",
       "      <td>6600.0</td>\n",
       "      <td>1320.0</td>\n",
       "    </tr>\n",
       "    <tr>\n",
       "      <th>6</th>\n",
       "      <td>Marketing Manager</td>\n",
       "      <td>13000.0</td>\n",
       "      <td>12000.0</td>\n",
       "      <td>1000.0</td>\n",
       "    </tr>\n",
       "    <tr>\n",
       "      <th>16</th>\n",
       "      <td>Stock Manager</td>\n",
       "      <td>7280.0</td>\n",
       "      <td>7000.0</td>\n",
       "      <td>280.0</td>\n",
       "    </tr>\n",
       "    <tr>\n",
       "      <th>5</th>\n",
       "      <td>Human Resources Representative</td>\n",
       "      <td>6500.0</td>\n",
       "      <td>6500.0</td>\n",
       "      <td>0.0</td>\n",
       "    </tr>\n",
       "    <tr>\n",
       "      <th>4</th>\n",
       "      <td>Finance Manager</td>\n",
       "      <td>12000.0</td>\n",
       "      <td>12100.0</td>\n",
       "      <td>-100.0</td>\n",
       "    </tr>\n",
       "    <tr>\n",
       "      <th>1</th>\n",
       "      <td>Accounting Manager</td>\n",
       "      <td>12000.0</td>\n",
       "      <td>12100.0</td>\n",
       "      <td>-100.0</td>\n",
       "    </tr>\n",
       "    <tr>\n",
       "      <th>2</th>\n",
       "      <td>Administration Assistant</td>\n",
       "      <td>4400.0</td>\n",
       "      <td>4500.0</td>\n",
       "      <td>-100.0</td>\n",
       "    </tr>\n",
       "    <tr>\n",
       "      <th>7</th>\n",
       "      <td>Marketing Representative</td>\n",
       "      <td>6000.0</td>\n",
       "      <td>6500.0</td>\n",
       "      <td>-500.0</td>\n",
       "    </tr>\n",
       "    <tr>\n",
       "      <th>13</th>\n",
       "      <td>Purchasing Manager</td>\n",
       "      <td>11000.0</td>\n",
       "      <td>11500.0</td>\n",
       "      <td>-500.0</td>\n",
       "    </tr>\n",
       "    <tr>\n",
       "      <th>15</th>\n",
       "      <td>Stock Clerk</td>\n",
       "      <td>2785.0</td>\n",
       "      <td>3500.0</td>\n",
       "      <td>-715.0</td>\n",
       "    </tr>\n",
       "    <tr>\n",
       "      <th>14</th>\n",
       "      <td>Shipping Clerk</td>\n",
       "      <td>3215.0</td>\n",
       "      <td>4000.0</td>\n",
       "      <td>-785.0</td>\n",
       "    </tr>\n",
       "    <tr>\n",
       "      <th>12</th>\n",
       "      <td>Purchasing Clerk</td>\n",
       "      <td>2780.0</td>\n",
       "      <td>4000.0</td>\n",
       "      <td>-1220.0</td>\n",
       "    </tr>\n",
       "    <tr>\n",
       "      <th>9</th>\n",
       "      <td>Programmer</td>\n",
       "      <td>5760.0</td>\n",
       "      <td>7000.0</td>\n",
       "      <td>-1240.0</td>\n",
       "    </tr>\n",
       "    <tr>\n",
       "      <th>3</th>\n",
       "      <td>Administration Vice President</td>\n",
       "      <td>17000.0</td>\n",
       "      <td>22500.0</td>\n",
       "      <td>-5500.0</td>\n",
       "    </tr>\n",
       "    <tr>\n",
       "      <th>8</th>\n",
       "      <td>President</td>\n",
       "      <td>24000.0</td>\n",
       "      <td>30000.0</td>\n",
       "      <td>-6000.0</td>\n",
       "    </tr>\n",
       "  </tbody>\n",
       "</table>\n",
       "</div>"
      ],
      "text/plain": [
       "                  Jabatan Pekerjaan  Rata-rata actual  \\\n",
       "11  Public Relations Representative           10000.0   \n",
       "10                Public Accountant            8300.0   \n",
       "0                        Accountant            7920.0   \n",
       "6                 Marketing Manager           13000.0   \n",
       "16                    Stock Manager            7280.0   \n",
       "5    Human Resources Representative            6500.0   \n",
       "4                   Finance Manager           12000.0   \n",
       "1                Accounting Manager           12000.0   \n",
       "2          Administration Assistant            4400.0   \n",
       "7          Marketing Representative            6000.0   \n",
       "13               Purchasing Manager           11000.0   \n",
       "15                      Stock Clerk            2785.0   \n",
       "14                   Shipping Clerk            3215.0   \n",
       "12                 Purchasing Clerk            2780.0   \n",
       "9                        Programmer            5760.0   \n",
       "3     Administration Vice President           17000.0   \n",
       "8                         President           24000.0   \n",
       "\n",
       "    Kisaran Range Perusahaan  Perbedaan  \n",
       "11                    7500.0     2500.0  \n",
       "10                    6600.0     1700.0  \n",
       "0                     6600.0     1320.0  \n",
       "6                    12000.0     1000.0  \n",
       "16                    7000.0      280.0  \n",
       "5                     6500.0        0.0  \n",
       "4                    12100.0     -100.0  \n",
       "1                    12100.0     -100.0  \n",
       "2                     4500.0     -100.0  \n",
       "7                     6500.0     -500.0  \n",
       "13                   11500.0     -500.0  \n",
       "15                    3500.0     -715.0  \n",
       "14                    4000.0     -785.0  \n",
       "12                    4000.0    -1220.0  \n",
       "9                     7000.0    -1240.0  \n",
       "3                    22500.0    -5500.0  \n",
       "8                    30000.0    -6000.0  "
      ]
     },
     "execution_count": 59,
     "metadata": {},
     "output_type": "execute_result"
    }
   ],
   "source": [
    "# Membuat tabel\n",
    "tabel1_2 = tabel1.merge(tabel2, how='inner', on='job_title')\n",
    "tabel1_2 = tabel1_2.groupby(['job_title'])[['salary','AVG_salary']].mean().reset_index()\n",
    "tabel1_2.columns = ['Jabatan Pekerjaan','Rata-rata actual','Kisaran Range Perusahaan']\n",
    "tabel1_2['Perbedaan'] = tabel1_2['Rata-rata actual']-tabel1_2['Kisaran Range Perusahaan']\n",
    "tabel1_2 = tabel1_2.sort_values(by='Perbedaan', ascending=False)\n",
    "tabel1_2"
   ]
  },
  {
   "cell_type": "code",
   "execution_count": 60,
   "metadata": {},
   "outputs": [
    {
     "data": {
      "image/png": "[encoded data removed]",
      "text/plain": [
       "<Figure size 1440x576 with 1 Axes>"
      ]
     },
     "metadata": {
      "needs_background": "light"
     },
     "output_type": "display_data"
    }
   ],
   "source": [
    "plt.figure(figsize=(20,8))\n",
    "plt.title('Perbedaan Besar Gaji Actual dan Kisaran Perusahaan',size=20)\n",
    "sns.lineplot(data=tabel1_2, x='Jabatan Pekerjaan', y='Perbedaan')\n",
    "plt.axhline(y = 0, color = 'r', linestyle = '-')\n",
    "plt.xticks(rotation=45)\n",
    "plt.show()"
   ]
  },
  {
   "cell_type": "markdown",
   "metadata": {},
   "source": [
    "Dari gambar di atas, Public Relations Representative memiliki rata-rata gaji lebih tinggi dibandingkan rata-rata gaji yang ditetapkan perusahaan, Human Resource Representative memiliki rata-rata gaji yang sama dengan rata-rata gaji yang ditetapkan perusahaan, sementara President memiliki gaji dibawah rata-rata gaji yang ditetapkan perusahaan.\n"
   ]
  },
  {
   "cell_type": "markdown",
   "metadata": {},
   "source": [
    "### 2.1. Berapa jumlah personil yang disupervisi oleh setiap manager?"
   ]
  },
  {
   "cell_type": "markdown",
   "metadata": {},
   "source": [
    "Analisis dilakukan menggunakan Tableau dengan mengkoneksikan Tableu melalui server MySQL."
   ]
  },
  {
   "cell_type": "code",
   "execution_count": 61,
   "metadata": {},
   "outputs": [
    {
     "data": {
      "text/html": [
       "<img src=\"Distribusi Jumlah Karyawan yang disupervisi setiap manager.png\"/>"
      ],
      "text/plain": [
       "<IPython.core.display.Image object>"
      ]
     },
     "execution_count": 61,
     "metadata": {},
     "output_type": "execute_result"
    }
   ],
   "source": [
    "Image(url='Distribusi Jumlah Karyawan yang disupervisi setiap manager.png')"
   ]
  },
  {
   "cell_type": "markdown",
   "metadata": {},
   "source": [
    "Dari gambar di atas, manager dengan employee_id 120, 121, 122, 123, dan 124 memiliki jumlah karyawan yang disupervisi terbanyak dimana seluruhnya pada departemen nomor 50."
   ]
  },
  {
   "cell_type": "markdown",
   "metadata": {},
   "source": [
    "### 2.2. Berapa jumlah manager di tiap kantor cabang?"
   ]
  },
  {
   "cell_type": "code",
   "execution_count": 62,
   "metadata": {},
   "outputs": [
    {
     "data": {
      "text/html": [
       "<img src=\"Distribusi Jumlah Manager setiap kota.png\"/>"
      ],
      "text/plain": [
       "<IPython.core.display.Image object>"
      ]
     },
     "execution_count": 62,
     "metadata": {},
     "output_type": "execute_result"
    }
   ],
   "source": [
    "Image(url='Distribusi Jumlah Manager setiap kota.png')"
   ]
  },
  {
   "cell_type": "markdown",
   "metadata": {},
   "source": [
    "Dari gambar di atas, South San Francisco memiliki jumlah manager terbanyak yaitu mencapai 90 manager, disusul dengan Toronto dan Seattle, yang paling sedikit pada Southlake yang hanya sebesar 5 manager."
   ]
  },
  {
   "cell_type": "markdown",
   "metadata": {},
   "source": [
    "### 2.3. Rata-rata gaji manager di tiap kantor cabang?"
   ]
  },
  {
   "cell_type": "code",
   "execution_count": 63,
   "metadata": {},
   "outputs": [
    {
     "data": {
      "text/html": [
       "<img src=\"Rata-rata Gaji Manager setiap Kota.png\"/>"
      ],
      "text/plain": [
       "<IPython.core.display.Image object>"
      ]
     },
     "execution_count": 63,
     "metadata": {},
     "output_type": "execute_result"
    }
   ],
   "source": [
    "Image(url='Rata-rata Gaji Manager setiap Kota.png')"
   ]
  },
  {
   "cell_type": "markdown",
   "metadata": {},
   "source": [
    "Dari gambar di atas, Manager-manager di Kota Seattle US memiliki rata-rata gaji tertinggi disusul oleh Toronto dan South San Francisco."
   ]
  },
  {
   "cell_type": "markdown",
   "metadata": {},
   "source": [
    "### Statistical Analysis\n",
    "\n",
    "Melakukan analisis berdasarkan statistik data yang ada di database HR."
   ]
  },
  {
   "cell_type": "markdown",
   "metadata": {},
   "source": [
    "### 1. Desriptive Analysis\n",
    "Descriptive analysis pada feature salary "
   ]
  },
  {
   "cell_type": "code",
   "execution_count": 64,
   "metadata": {},
   "outputs": [
    {
     "data": {
      "text/plain": [
       "count       72.000000\n",
       "mean      5276.388889\n",
       "std       4060.406316\n",
       "min       2100.000000\n",
       "25%       2800.000000\n",
       "50%       3350.000000\n",
       "75%       6600.000000\n",
       "max      24000.000000\n",
       "Name: salary, dtype: float64"
      ]
     },
     "execution_count": 64,
     "metadata": {},
     "output_type": "execute_result"
    }
   ],
   "source": [
    "# Descriptive Analysis for Salary\n",
    "tabel1['salary'].describe()"
   ]
  },
  {
   "cell_type": "markdown",
   "metadata": {},
   "source": [
    "Terdapat 72 data dengan rata-rata salary 5276 dolar dan Median 3350 dolar. Minimun salary pada 2100 dolar dan maksimum pada 24000 dolar."
   ]
  },
  {
   "cell_type": "code",
   "execution_count": 65,
   "metadata": {},
   "outputs": [
    {
     "data": {
      "image/png": "[encoded data removed]",
      "text/plain": [
       "<Figure size 720x576 with 1 Axes>"
      ]
     },
     "metadata": {
      "needs_background": "light"
     },
     "output_type": "display_data"
    }
   ],
   "source": [
    "plt.figure(figsize=(10,8))\n",
    "sns.histplot(x = tabel1['salary'])\n",
    "plt.title('Sebaran Data Salary', size=20)\n",
    "plt.show()"
   ]
  },
  {
   "cell_type": "markdown",
   "metadata": {},
   "source": [
    "Dari histogram di atas, dapat disimpulkan bahwa salary tidak berdistribusi normal namun skew ke kanan. sehingga analisis selanjutnya menggunakan analisis non-parametric"
   ]
  }
 ],
 "metadata": {
  "interpreter": {
   "hash": "d406864f2ee78ecc67afccccd0a48c216f41ca3a0f9ca739a0b9d8b15ae422ba"
  },
  "kernelspec": {
   "display_name": "Python 3.10.1 64-bit",
   "language": "python",
   "name": "python3"
  },
  "language_info": {
   "codemirror_mode": {
    "name": "ipython",
    "version": 3
   },
   "file_extension": ".py",
   "mimetype": "text/x-python",
   "name": "python",
   "nbconvert_exporter": "python",
   "pygments_lexer": "ipython3",
   "version": "3.10.1"
  },
  "orig_nbformat": 4
 },
 "nbformat": 4,
 "nbformat_minor": 2
}
